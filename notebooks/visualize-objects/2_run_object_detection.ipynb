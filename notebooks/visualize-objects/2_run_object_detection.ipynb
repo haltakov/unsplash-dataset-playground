{
 "metadata": {
  "language_info": {
   "codemirror_mode": {
    "name": "ipython",
    "version": 3
   },
   "file_extension": ".py",
   "mimetype": "text/x-python",
   "name": "python",
   "nbconvert_exporter": "python",
   "pygments_lexer": "ipython3",
   "version": "3.6.9-final"
  },
  "orig_nbformat": 2,
  "kernelspec": {
   "name": "python3",
   "display_name": "Python 3",
   "language": "python"
  }
 },
 "nbformat": 4,
 "nbformat_minor": 2,
 "cells": [
  {
   "source": [
    "# Run Object Detection\n",
    "\n",
    "This notebook runs the [YOLOv5](https://github.com/ultralytics/yolov5) object detection on all downloaded photos.\n",
    "\n",
    "You can use this notebook to download, setup and run YOLOv5."
   ],
   "cell_type": "markdown",
   "metadata": {}
  },
  {
   "source": [
    "## Setup YOLOv5\n",
    "\n",
    "First, we need to clone the YOLOv5 GitHub repository. This requires you to have `git` installed."
   ],
   "cell_type": "markdown",
   "metadata": {}
  },
  {
   "cell_type": "code",
   "execution_count": 11,
   "metadata": {},
   "outputs": [
    {
     "output_type": "stream",
     "name": "stdout",
     "text": [
      "Cloning into 'notebooks/visualize-objects/yolov5'...\n",
      "remote: Enumerating objects: 4027, done.\u001b[K\n",
      "remote: Total 4027 (delta 0), reused 0 (delta 0), pack-reused 4027\u001b[K\n",
      "Receiving objects: 100% (4027/4027), 7.22 MiB | 2.71 MiB/s, done.\n",
      "Resolving deltas: 100% (2721/2721), done.\n"
     ]
    }
   ],
   "source": [
    "from pathlib import Path\n",
    "\n",
    "# Define the path where YOLOv5 will be downloaded\n",
    "yolov5_path = Path('notebooks/visualize-objects/yolov5')\n",
    "\n",
    "# Clone YOLOv5 repository\n",
    "if not yolov5_path.exists():\n",
    "    !git clone git@github.com:ultralytics/yolov5.git $yolov5_path"
   ]
  },
  {
   "source": [
    "Next, we need to create a new Python virtual environment and install the YOLOv5 requirements.\n",
    "\n",
    "Note, that this code will only work on MacOS and Linux. For Windows, the way you work with Python environments is a bit different."
   ],
   "cell_type": "markdown",
   "metadata": {}
  },
  {
   "cell_type": "code",
   "execution_count": 22,
   "metadata": {},
   "outputs": [
    {
     "output_type": "stream",
     "name": "stdout",
     "text": [
      "Requirement already satisfied: Cython in /Users/vladimir/anaconda3/lib/python3.6/site-packages (from -r notebooks/visualize-objects/yolov5/requirements.txt (line 4)) (0.26.1)\n",
      "Collecting matplotlib>=3.2.2\n",
      "  Using cached matplotlib-3.3.3-cp36-cp36m-macosx_10_9_x86_64.whl (8.5 MB)\n",
      "Collecting numpy>=1.18.5\n",
      "  Using cached numpy-1.19.5-cp36-cp36m-macosx_10_9_x86_64.whl (15.6 MB)\n",
      "Collecting opencv-python>=4.1.2\n",
      "  Using cached opencv_python-4.5.1.48-cp36-cp36m-macosx_10_13_x86_64.whl (40.3 MB)\n",
      "Requirement already satisfied: Pillow in /Users/vladimir/anaconda3/lib/python3.6/site-packages (from -r notebooks/visualize-objects/yolov5/requirements.txt (line 8)) (4.2.1)\n",
      "Collecting PyYAML>=5.3\n",
      "  Using cached PyYAML-5.3.1.tar.gz (269 kB)\n",
      "Collecting scipy>=1.4.1\n",
      "  Using cached scipy-1.5.4-cp36-cp36m-macosx_10_9_x86_64.whl (28.8 MB)\n",
      "Collecting tensorboard>=2.2\n",
      "  Using cached tensorboard-2.4.0-py3-none-any.whl (10.6 MB)\n",
      "Collecting torch>=1.7.0\n",
      "  Using cached torch-1.7.1-cp36-none-macosx_10_9_x86_64.whl (108.8 MB)\n",
      "Collecting torchvision>=0.8.1\n",
      "  Using cached torchvision-0.8.2-cp36-cp36m-macosx_10_9_x86_64.whl (1.0 MB)\n",
      "Collecting tqdm>=4.41.0\n",
      "  Downloading tqdm-4.55.2-py2.py3-none-any.whl (68 kB)\n",
      "\u001b[K     |████████████████████████████████| 68 kB 1.5 MB/s \n",
      "\u001b[?25hCollecting seaborn>=0.11.0\n",
      "  Using cached seaborn-0.11.1-py3-none-any.whl (285 kB)\n",
      "Requirement already satisfied: pandas in /Users/vladimir/anaconda3/lib/python3.6/site-packages (from -r notebooks/visualize-objects/yolov5/requirements.txt (line 21)) (0.22.0)\n",
      "Collecting thop\n",
      "  Using cached thop-0.0.31.post2005241907-py3-none-any.whl (8.7 kB)\n",
      "Collecting pycocotools>=2.0\n",
      "  Using cached pycocotools-2.0.2.tar.gz (23 kB)\n",
      "Requirement already satisfied: cycler>=0.10 in /Users/vladimir/anaconda3/lib/python3.6/site-packages (from matplotlib>=3.2.2->-r notebooks/visualize-objects/yolov5/requirements.txt (line 5)) (0.10.0)\n",
      "Requirement already satisfied: python-dateutil>=2.1 in /Users/vladimir/anaconda3/lib/python3.6/site-packages (from matplotlib>=3.2.2->-r notebooks/visualize-objects/yolov5/requirements.txt (line 5)) (2.8.1)\n",
      "Requirement already satisfied: pyparsing!=2.0.4,!=2.1.2,!=2.1.6,>=2.0.3 in /Users/vladimir/anaconda3/lib/python3.6/site-packages (from matplotlib>=3.2.2->-r notebooks/visualize-objects/yolov5/requirements.txt (line 5)) (2.2.0)\n",
      "Collecting kiwisolver>=1.0.1\n",
      "  Downloading kiwisolver-1.3.1-cp36-cp36m-macosx_10_9_x86_64.whl (61 kB)\n",
      "\u001b[K     |████████████████████████████████| 61 kB 1.7 MB/s \n",
      "\u001b[?25hRequirement already satisfied: olefile in /Users/vladimir/anaconda3/lib/python3.6/site-packages (from Pillow->-r notebooks/visualize-objects/yolov5/requirements.txt (line 8)) (0.44)\n",
      "Requirement already satisfied: werkzeug>=0.11.15 in /Users/vladimir/anaconda3/lib/python3.6/site-packages (from tensorboard>=2.2->-r notebooks/visualize-objects/yolov5/requirements.txt (line 11)) (1.0.0)\n",
      "Collecting google-auth-oauthlib<0.5,>=0.4.1\n",
      "  Using cached google_auth_oauthlib-0.4.2-py2.py3-none-any.whl (18 kB)\n",
      "Collecting requests<3,>=2.21.0\n",
      "  Using cached requests-2.25.1-py2.py3-none-any.whl (61 kB)\n",
      "Collecting tensorboard-plugin-wit>=1.6.0\n",
      "  Using cached tensorboard_plugin_wit-1.7.0-py3-none-any.whl (779 kB)\n",
      "Requirement already satisfied: markdown>=2.6.8 in /Users/vladimir/anaconda3/lib/python3.6/site-packages (from tensorboard>=2.2->-r notebooks/visualize-objects/yolov5/requirements.txt (line 11)) (2.6.11)\n",
      "Collecting absl-py>=0.4\n",
      "  Using cached absl_py-0.11.0-py3-none-any.whl (127 kB)\n",
      "Collecting setuptools>=41.0.0\n",
      "  Downloading setuptools-51.1.2-py3-none-any.whl (784 kB)\n",
      "\u001b[K     |█████████████▊                  | 337 kB 1.5 MB/s eta 0:00:01^C\n",
      "\n"
     ]
    }
   ],
   "source": [
    "yolov5_venv = yolov5_path / '.venv'\n",
    "\n",
    "# Create a virutal environment if it doesn't exist yet\n",
    "if not yolov5_venv.exists():\n",
    "    !python3 -m venv $yolov5_venv\n",
    "\n",
    "# Source the virutal environment\n",
    "!source {(yolov5_venv / 'bin/activate').absolute()}\n",
    "\n",
    "!pip3 install -r {yolov5_path / 'requirements.txt'}"
   ]
  }
 ]
}