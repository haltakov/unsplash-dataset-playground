{
 "metadata": {
  "language_info": {
   "codemirror_mode": {
    "name": "ipython",
    "version": 3
   },
   "file_extension": ".py",
   "mimetype": "text/x-python",
   "name": "python",
   "nbconvert_exporter": "python",
   "pygments_lexer": "ipython3",
   "version": "3.6.9-final"
  },
  "orig_nbformat": 2,
  "kernelspec": {
   "name": "python3",
   "display_name": "Python 3",
   "language": "python"
  }
 },
 "nbformat": 4,
 "nbformat_minor": 2,
 "cells": [
  {
   "source": [
    "# Inspect Photos"
   ],
   "cell_type": "markdown",
   "metadata": {}
  },
  {
   "source": [
    "This notebook allows you to get a quick overview of the key attributes associated with a photo in the Unsplash dataset. It aggregates some key features from all 5 tables in the dataset (`photos`, `keywords`, `collections`, `conversions` and `colors`)."
   ],
   "cell_type": "markdown",
   "metadata": {}
  },
  {
   "source": [
    "## Load all data"
   ],
   "cell_type": "markdown",
   "metadata": {}
  },
  {
   "cell_type": "code",
   "execution_count": 1,
   "metadata": {},
   "outputs": [],
   "source": [
    "import numpy as np\n",
    "import pandas as pd\n",
    "import glob\n",
    "\n",
    "# This code is adapted from the examples provided with the datase\n",
    "path = './unsplash-dataset/lite/'\n",
    "documents = ['photos', 'keywords', 'collections', 'conversions', 'colors']\n",
    "datasets = {}\n",
    "\n",
    "for doc in documents:\n",
    "    files = glob.glob(path + doc + \".tsv*\")\n",
    "\n",
    "    subsets = []\n",
    "    for filename in files:\n",
    "        df = pd.read_csv(filename, sep='\\t', header=0)\n",
    "        subsets.append(df)\n",
    "\n",
    "    datasets[doc] = pd.concat(subsets, axis=0, ignore_index=True)\n",
    "\n",
    "photos = datasets['photos']\n",
    "keywords = datasets['keywords']\n",
    "collections = datasets['collections']\n",
    "conversions = datasets['conversions']\n",
    "colors = datasets['colors']"
   ]
  },
  {
   "source": [
    "## Define which attributes to show"
   ],
   "cell_type": "markdown",
   "metadata": {}
  },
  {
   "source": [
    "The `show_photo_data` function defines which attributes should be shown and in what format."
   ],
   "cell_type": "markdown",
   "metadata": {}
  },
  {
   "cell_type": "code",
   "execution_count": 185,
   "metadata": {},
   "outputs": [],
   "source": [
    "from IPython.display import Image\n",
    "from IPython.core.display import display, HTML\n",
    "from collections import Counter\n",
    "\n",
    "# Displays the most important information for a given photo ID\n",
    "def show_photo_data(photo_id, keyword_confidence=70):\n",
    "    # Find the relevant photo in the photos table\n",
    "    photo = photos[photos['photo_id'] == photo_id].iloc[0]\n",
    "\n",
    "    # Show the photo and its link\n",
    "    display(Image(url=photo[\"photo_image_url\"], width=300, retina=True, embed=False))\n",
    "    display(HTML(f'<a href=\"{photo[\"photo_url\"]}\">{photo[\"photo_url\"]}</a>'))\n",
    "    print()\n",
    "\n",
    "    # Show the descriptions from the user and the AI\n",
    "    print(f'User: {photo[\"photo_description\"]}')\n",
    "    print(f'AI: {photo[\"ai_description\"]}')\n",
    "    print()\n",
    "\n",
    "    # Show the downloads and views stats and their ratio\n",
    "    print(f'Downloads: {photo[\"stats_downloads\"]}')\n",
    "    print(f'Views: {photo[\"stats_views\"]}')\n",
    "    print(f'Ratio: {(100 * photo[\"stats_downloads\"] / photo[\"stats_views\"]):.2f}%')\n",
    "    print()\n",
    "\n",
    "    # Display the keywords associates with that photo (both from the user and the AI). Only keywords having some minimal confidence will be shown.\n",
    "    photo_keywords = keywords[keywords['photo_id'] == photo_id]\n",
    "    keywords_user = photo_keywords[photo_keywords[\"suggested_by_user\"] == \"t\"]\n",
    "    keywords_ai = photo_keywords[(photo_keywords[\"suggested_by_user\"] == \"f\") & \n",
    "                                 ((photo_keywords[\"ai_service_1_confidence\"] > keyword_confidence) | \n",
    "                                  (photo_keywords[\"ai_service_2_confidence\"] > keyword_confidence))]\n",
    "    print(f'Keywords User: {\", \".join(list(keywords_user[\"keyword\"]))}')\n",
    "    print(f'Keywords AI: {\", \".join(list(keywords_ai[\"keyword\"]))}')\n",
    "    print()\n",
    "\n",
    "    # Display the search terms associated with each photo (conversions) and their count\n",
    "    photo_conversions = Counter(list(conversions[conversions['photo_id'] == photo_id][\"keyword\"]))\n",
    "    print(f'Conversions:')\n",
    "    for item in sorted(photo_conversions, key=lambda key: -photo_conversions[key]):\n",
    "        print(f'{photo_conversions[item]:4d}: {item}')\n",
    "    print()\n",
    "\n",
    "    # Display the colleactions the photo is added to\n",
    "    photo_collections = collections[collections['photo_id'] == photo_id]\n",
    "    print(f'Collections: {\", \".join(list(photo_collections[\"collection_title\"]))}')\n",
    "    print()\n",
    "    \n",
    "    # Display the colors associated with the photo\n",
    "    photo_colors = colors[colors['photo_id'] == photo_id]\n",
    "    print(f'Colors: {\", \".join(list(photo_colors[\"keyword\"]))}')"
   ]
  },
  {
   "source": [
    "# Inspect a Photo"
   ],
   "cell_type": "markdown",
   "metadata": {}
  },
  {
   "cell_type": "code",
   "execution_count": 190,
   "metadata": {},
   "outputs": [
    {
     "output_type": "display_data",
     "data": {
      "text/plain": "<IPython.core.display.Image object>",
      "text/html": "<img src=\"https://images.unsplash.com/photo-1577456020912-85d0604ad403\" width=\"300\"/>"
     },
     "metadata": {}
    },
    {
     "output_type": "display_data",
     "data": {
      "text/plain": "<IPython.core.display.HTML object>",
      "text/html": "<a href=\"https://unsplash.com/photos/JOFKIzygu70\">https://unsplash.com/photos/JOFKIzygu70</a>"
     },
     "metadata": {}
    },
    {
     "output_type": "stream",
     "name": "stdout",
     "text": [
      "\n",
      "User: nan\n",
      "AI: tipi tent on snowfield near trees during night\n",
      "\n",
      "Downloads: 10122\n",
      "Views: 111369\n",
      "Ratio: 9.09%\n",
      "\n",
      "Keywords User: \n",
      "Keywords AI: night, outdoors, cloud, nature, tent, aurora, atmosphere, sky, tree, natural landscape\n",
      "\n",
      "Conversions:\n",
      "  52: aurora\n",
      "   8: night tent\n",
      "   5: aurora boreal\n",
      "   4: tromsø\n",
      "   3: aurora borealis\n",
      "   3: tent at night\n",
      "   3: tent night\n",
      "   2: norway night\n",
      "   2: norway camping\n",
      "   2: norway aurora\n",
      "   2: norway\n",
      "   1: aurora burealis\n",
      "   1: camping night\n",
      "   1: putting up a tent\n",
      "   1: camping\n",
      "   1: camping tent night\n",
      "   1: aurora camping\n",
      "   1: the aurora\n",
      "   1: aurora borealis bright\n",
      "   1: aurora blue\n",
      "   1: monschau\n",
      "   1: aurora nordic\n",
      "   1: norway tent\n",
      "   1: norway mountant\n",
      "   1: auroras boreales\n",
      "   1: blue aurora\n",
      "   1: glamping\n",
      "   1: aurora norway\n",
      "   1: camping aurora\n",
      "   1: boreal aurora\n",
      "\n",
      "Collections: Night Sky, AWESOME PLACES, Snow, aurorean sky, 클로버게임 < 010-6847-8990 > 카톡 : 2400hun / 배터리게임, My collection, Northern Lights, The Night Sky, Cultural, Spacey Wacey, wherever you are, NIGHT, norway, Misc Story Mood Boards, Arctic, the view from out there, Native, Bg, 天际, final frontier, Plan Chrome, places., 클로버게임 < 010-6847-8990 > 카톡 : 2400hun / 클로버게임주소\n",
      "\n",
      "Colors: indianred, darkslategray, darkslategray, cadetblue, teal, mediumaquamarine, sienna, teal, teal, midnightblue\n"
     ]
    }
   ],
   "source": [
    "show_photo_data('JOFKIzygu70')"
   ]
  }
 ]
}